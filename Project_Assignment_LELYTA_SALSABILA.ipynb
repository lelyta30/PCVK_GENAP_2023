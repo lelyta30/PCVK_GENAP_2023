{
  "cells": [
    {
      "cell_type": "markdown",
      "metadata": {
        "id": "view-in-github",
        "colab_type": "text"
      },
      "source": [
        "<a href=\"https://colab.research.google.com/github/lelyta30/PCVK_GENAP_2023/blob/main/Project_Assignment_LELYTA_SALSABILA.ipynb\" target=\"_parent\"><img src=\"https://colab.research.google.com/assets/colab-badge.svg\" alt=\"Open In Colab\"/></a>"
      ]
    },
    {
      "cell_type": "markdown",
      "metadata": {
        "id": "EPq51sP5twIh"
      },
      "source": [
        "Name : Lelyta Salsabila\n",
        "\n",
        "Class : 3I\n",
        "\n",
        "NIM : 1941720026"
      ]
    },
    {
      "cell_type": "code",
      "execution_count": null,
      "metadata": {
        "colab": {
          "background_save": true
        },
        "id": "fWad9PtG_E4y",
        "outputId": "114f8ebe-5a88-4fb4-bcb0-ee798a089b51"
      },
      "outputs": [
        {
          "name": "stdout",
          "output_type": "stream",
          "text": [
            "Mounted at /content/drive\n"
          ]
        }
      ],
      "source": [
        "from google.colab import drive\n",
        "drive.mount('/content/drive')"
      ]
    },
    {
      "cell_type": "code",
      "execution_count": 1,
      "metadata": {
        "colab": {
          "base_uri": "https://localhost:8080/",
          "height": 391
        },
        "id": "VQSp4Burkzvm",
        "outputId": "b7d77981-535d-40d7-b558-02076ce2f8be"
      },
      "outputs": [
        {
          "output_type": "error",
          "ename": "ModuleNotFoundError",
          "evalue": "ignored",
          "traceback": [
            "\u001b[0;31m---------------------------------------------------------------------------\u001b[0m",
            "\u001b[0;31mModuleNotFoundError\u001b[0m                       Traceback (most recent call last)",
            "\u001b[0;32m<ipython-input-1-810a9cff8cee>\u001b[0m in \u001b[0;36m<module>\u001b[0;34m\u001b[0m\n\u001b[1;32m      3\u001b[0m \u001b[0mget_ipython\u001b[0m\u001b[0;34m(\u001b[0m\u001b[0;34m)\u001b[0m\u001b[0;34m.\u001b[0m\u001b[0mrun_line_magic\u001b[0m\u001b[0;34m(\u001b[0m\u001b[0;34m'config'\u001b[0m\u001b[0;34m,\u001b[0m \u001b[0;34m\"InlineBackend.figure_formats = 'retina'\"\u001b[0m\u001b[0;34m)\u001b[0m\u001b[0;34m\u001b[0m\u001b[0;34m\u001b[0m\u001b[0m\n\u001b[1;32m      4\u001b[0m \u001b[0;32mfrom\u001b[0m \u001b[0mmatplotlib\u001b[0m \u001b[0;32mimport\u001b[0m \u001b[0mrcParams\u001b[0m\u001b[0;34m\u001b[0m\u001b[0;34m\u001b[0m\u001b[0m\n\u001b[0;32m----> 5\u001b[0;31m \u001b[0;32mfrom\u001b[0m \u001b[0mEC_CV\u001b[0m \u001b[0;32mimport\u001b[0m \u001b[0;34m*\u001b[0m\u001b[0;34m\u001b[0m\u001b[0;34m\u001b[0m\u001b[0m\n\u001b[0m\u001b[1;32m      6\u001b[0m \u001b[0;32mimport\u001b[0m \u001b[0mcv2\u001b[0m\u001b[0;34m\u001b[0m\u001b[0;34m\u001b[0m\u001b[0m\n\u001b[1;32m      7\u001b[0m \u001b[0;34m\u001b[0m\u001b[0m\n",
            "\u001b[0;31mModuleNotFoundError\u001b[0m: No module named 'EC_CV'",
            "",
            "\u001b[0;31m---------------------------------------------------------------------------\u001b[0;32m\nNOTE: If your import is failing due to a missing package, you can\nmanually install dependencies using either !pip or !apt.\n\nTo view examples of installing some common dependencies, click the\n\"Open Examples\" button below.\n\u001b[0;31m---------------------------------------------------------------------------\u001b[0m\n"
          ],
          "errorDetails": {
            "actions": [
              {
                "action": "open_url",
                "actionText": "Open Examples",
                "url": "/notebooks/snippets/importing_libraries.ipynb"
              }
            ]
          }
        }
      ],
      "source": [
        "import numpy as np\n",
        "import matplotlib.pyplot as plt\n",
        "%config InlineBackend.figure_formats = 'retina'\n",
        "from matplotlib import rcParams\n",
        "from EC_CV import *\n",
        "import cv2\n",
        "\n",
        "rcParams['figure.figsize'] = (24, 10)\n"
      ]
    },
    {
      "cell_type": "code",
      "source": [
        "img = plt.imread('field.jpg')\n",
        "plt.axis(\"off\")\n",
        "plt.imshow(img)"
      ],
      "metadata": {
        "id": "ceB8Y651dVM3"
      },
      "execution_count": null,
      "outputs": []
    },
    {
      "cell_type": "code",
      "source": [
        "# OpenCV's functions work with color and grayscale images\n",
        "median = cv2.medianBlur(img,5)\n",
        "plt.axis(\"off\")\n",
        "plt.imshow(median)"
      ],
      "metadata": {
        "id": "sXw73Nu5dkxU"
      },
      "execution_count": null,
      "outputs": []
    },
    {
      "cell_type": "code",
      "source": [
        "median1 = cv2.medianBlur(img, 11)\n",
        "plt.axis(\"off\")\n",
        "plt.imshow(median1)\n",
        "\n",
        "# median1 = cv2.medianBlur(img,5)\n",
        "# plt.axis(\"off\")\n",
        "# plt.imshow(median1)"
      ],
      "metadata": {
        "id": "liHO-rnIdqc9"
      },
      "execution_count": null,
      "outputs": []
    },
    {
      "cell_type": "code",
      "source": [
        "# Let's see an average blur side by side with a median blur\n",
        "\n",
        "rcParams['figure.figsize'] = (20,8)\n",
        "\n",
        "kernel = np.ones((5, 5), np.float32) / 25\n",
        "average = cv2.filter2D(src=img, ddepth=-1, kernel=kernel)\n",
        "\n",
        "# display images\n",
        "fig, ax = plt.subplots(1,3)\n",
        "ax[0].imshow(average)\n",
        "ax[1].imshow(median)\n",
        "ax[2].imshow(median1)"
      ],
      "metadata": {
        "id": "qpWA22zddvKD"
      },
      "execution_count": null,
      "outputs": []
    },
    {
      "cell_type": "code",
      "source": [
        "# Let's zoom in to the leftmost section\n",
        "\n",
        "rcParams['figure.figsize'] = (20, 20)\n",
        "\n",
        "# display images\n",
        "fig, ax = plt.subplots(1,3)\n",
        "ax[0].imshow(average[:,:400])\n",
        "ax[1].imshow(median[:,:400])\n",
        "ax[2].imshow(median1[:,:400])"
      ],
      "metadata": {
        "id": "KyZJg_g6dzgx"
      },
      "execution_count": null,
      "outputs": []
    },
    {
      "cell_type": "code",
      "source": [
        "# Now a middle section\n",
        "\n",
        "# fig, ax = plt.subplots(1,2)\n",
        "# ax[0].imshow(average[:,400:800])\n",
        "# ax[1].imshow(median[:,400:800])"
      ],
      "metadata": {
        "id": "M49zuwM5d610"
      },
      "execution_count": null,
      "outputs": []
    },
    {
      "cell_type": "code",
      "source": [
        "# Lastly, the rightmost section\n",
        "\n",
        "# fig, ax = plt.subplots(1,2)\n",
        "# ax[0].imshow(average[:,800:1200])\n",
        "# ax[1].imshow(median[:,800:1200])"
      ],
      "metadata": {
        "id": "ErYPDLxYd9s3"
      },
      "execution_count": null,
      "outputs": []
    },
    {
      "cell_type": "code",
      "source": [
        "# Now let's see it for a different picture\n",
        "\n",
        "rcParams['figure.figsize'] = (24, 10)\n",
        "\n",
        "img = plt.imread('workers.jpg')\n",
        "plt.axis(\"off\")\n",
        "plt.imshow(img)"
      ],
      "metadata": {
        "id": "2mROg3h1eAvm"
      },
      "execution_count": null,
      "outputs": []
    },
    {
      "cell_type": "code",
      "source": [
        "# OpenCV's functions work with color and grayscale images\n",
        "\n",
        "median = cv2.medianBlur(img,3)\n",
        "plt.axis(\"off\")\n",
        "plt.imshow(median)"
      ],
      "metadata": {
        "id": "ECWYcKGQeDWE"
      },
      "execution_count": null,
      "outputs": []
    },
    {
      "cell_type": "code",
      "source": [
        "# Let's see an average blur side by side with a median blur\n",
        "\n",
        "rcParams['figure.figsize'] = (20,8)\n",
        "\n",
        "kernel = np.ones((3, 3), np.float32) / 9\n",
        "average = cv2.filter2D(src=img, ddepth=-1, kernel=kernel)\n",
        "\n",
        "# display images\n",
        "fig, ax = plt.subplots(1,2)\n",
        "ax[0].imshow(average)\n",
        "ax[1].imshow(median)"
      ],
      "metadata": {
        "id": "66R0azfFeIhq"
      },
      "execution_count": null,
      "outputs": []
    },
    {
      "cell_type": "code",
      "source": [
        "# Let's zoom in to the leftmost section\n",
        "\n",
        "rcParams['figure.figsize'] = (20, 20)\n",
        "\n",
        "# display images\n",
        "fig, ax = plt.subplots(1,2)\n",
        "ax[0].imshow(average[:,:400])\n",
        "ax[1].imshow(median[:,:400])"
      ],
      "metadata": {
        "id": "Ozb32HHceKp2"
      },
      "execution_count": null,
      "outputs": []
    },
    {
      "cell_type": "code",
      "source": [
        "# # Now a middle section\n",
        "\n",
        "# fig, ax = plt.subplots(1,2)\n",
        "# ax[0].imshow(average[:,400:800])\n",
        "# ax[1].imshow(median[:,400:800])"
      ],
      "metadata": {
        "id": "yv5VZXvXePG-"
      },
      "execution_count": null,
      "outputs": []
    },
    {
      "cell_type": "code",
      "source": [
        "# # Lastly, the rightmost section\n",
        "\n",
        "# fig, ax = plt.subplots(1,2)\n",
        "# ax[0].imshow(average[:,700:1100])\n",
        "# ax[1].imshow(median[:,700:1100])"
      ],
      "metadata": {
        "id": "CuHL9tpbeU3K"
      },
      "execution_count": null,
      "outputs": []
    },
    {
      "cell_type": "code",
      "source": [
        "# Now you try it with this picture of a face.\n",
        "# Experiment with several kernel sizes.\n",
        "\n",
        "rcParams['figure.figsize'] = (24, 10)\n",
        "\n",
        "# img = plt.imread('face.jpg')\n",
        "# plt.axis(\"off\")\n",
        "# plt.imshow(img)"
      ],
      "metadata": {
        "id": "KSFXf8v8eY-M"
      },
      "execution_count": null,
      "outputs": []
    },
    {
      "cell_type": "code",
      "source": [
        "median = cv2.medianBlur(img,3)\n",
        "median1 = cv2.medianBlur(img,5)\n",
        "# plt.axis(\"off\")\n",
        "# plt.imshow(median)\n",
        "\n",
        "fig, ax = plt.subplots(3,1)\n",
        "ax[0].imshow(img)\n",
        "ax[1].imshow(median)\n",
        "ax[2].imshow(median1)\n"
      ],
      "metadata": {
        "id": "Cq-z3ZsfebAp"
      },
      "execution_count": null,
      "outputs": []
    }
  ],
  "metadata": {
    "colab": {
      "provenance": [],
      "include_colab_link": true
    },
    "kernelspec": {
      "display_name": "Python 3",
      "name": "python3"
    },
    "language_info": {
      "name": "python"
    }
  },
  "nbformat": 4,
  "nbformat_minor": 0
}