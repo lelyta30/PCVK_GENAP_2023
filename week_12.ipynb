{
  "nbformat": 4,
  "nbformat_minor": 0,
  "metadata": {
    "colab": {
      "provenance": [],
      "include_colab_link": true
    },
    "kernelspec": {
      "name": "python3",
      "display_name": "Python 3"
    },
    "language_info": {
      "name": "python"
    }
  },
  "cells": [
    {
      "cell_type": "markdown",
      "metadata": {
        "id": "view-in-github",
        "colab_type": "text"
      },
      "source": [
        "<a href=\"https://colab.research.google.com/github/lelyta30/PCVK_GENAP_2023/blob/main/week_12.ipynb\" target=\"_parent\"><img src=\"https://colab.research.google.com/assets/colab-badge.svg\" alt=\"Open In Colab\"/></a>"
      ]
    },
    {
      "cell_type": "markdown",
      "source": [
        "\n",
        "Name : Lelyta Salsabila\n",
        "\n",
        "Class : 3I\n",
        "\n",
        "NIM : 1941720026"
      ],
      "metadata": {
        "id": "QGC9E-zvNpUZ"
      }
    },
    {
      "cell_type": "code",
      "metadata": {
        "colab": {
          "base_uri": "https://localhost:8080/"
        },
        "id": "9cXdgYQ0xdO1",
        "outputId": "73cd9223-5da4-46ab-ab92-f1294d909f6b"
      },
      "source": [
        "#akses drive\n",
        "from google.colab import drive\n",
        "\n",
        "drive.mount('/content/drive')"
      ],
      "execution_count": null,
      "outputs": [
        {
          "output_type": "stream",
          "name": "stdout",
          "text": [
            "Mounted at /content/drive\n"
          ]
        }
      ]
    },
    {
      "cell_type": "code",
      "source": [
        "#import library yang dibutuhkan\n",
        "import cv2 as cv\n",
        "import numpy as np\n",
        "from matplotlib import pyplot as plt"
      ],
      "metadata": {
        "id": "FIiVjHDYIj-i"
      },
      "execution_count": null,
      "outputs": []
    },
    {
      "cell_type": "code",
      "metadata": {
        "colab": {
          "base_uri": "https://localhost:8080/",
          "height": 263
        },
        "id": "rFq6GKiix6en",
        "outputId": "b7dec7bd-e541-4fea-db01-735fd2cbf44f"
      },
      "source": [
        "cascade_wajah = cv.CascadeClassifier('/content/drive/MyDrive/PCVK/haarcascades/haarcascade_frontalcatface,xml')\n",
        "#jokowi\n",
        "jokowi = cv.imread('/content/drive/MyDrive/PCVK/facedet/jokowi.jpg')\n",
        "jokowi1 = cv.imread('/content/drive/MyDrive/PCVK/facedet/jokowi.jpg')\n",
        "roi_wajah1 = cascade_wajah.detectMultiScale(jokowi1)\n",
        "\n",
        "roi_wajah = cascade_wajah.detectMultiScale(jokowi)\n",
        "for (x,y,w,h) in roi_wajah:\n",
        "  cv.rectangle(jokowi,(x,y),(x+w,y+h),(255,0,0), 3)\n",
        "plt.figure(figsize = (10,10))\n",
        "\n",
        "f,axarr = plt.subplots(1,2,figsize=(15,5))\n",
        "plt.subplot(121),plt.imshow(cv.cvtColor(jokowi1,cv.COLOR_BGR2RGB))\n",
        "axarr[0].imshow(cv.cvtColor(jokowi1,cv.COLOR_BGR2RGB))\n",
        "plt.subplot(122),plt.imshow(cv.cvtColor(jokowi,cv.COLOR_BGR2RGB))\n",
        "axarr[1].imshow(cv.cvtColor(jokowi,cv.COLOR_BGR2RGB))\n",
        "plt.show()"
      ],
      "execution_count": null,
      "outputs": [
        {
          "output_type": "error",
          "ename": "error",
          "evalue": "ignored",
          "traceback": [
            "\u001b[0;31m---------------------------------------------------------------------------\u001b[0m",
            "\u001b[0;31merror\u001b[0m                                     Traceback (most recent call last)",
            "\u001b[0;32m<ipython-input-4-417335edc343>\u001b[0m in \u001b[0;36m<cell line: 5>\u001b[0;34m()\u001b[0m\n\u001b[1;32m      3\u001b[0m \u001b[0mjokowi\u001b[0m \u001b[0;34m=\u001b[0m \u001b[0mcv\u001b[0m\u001b[0;34m.\u001b[0m\u001b[0mimread\u001b[0m\u001b[0;34m(\u001b[0m\u001b[0;34m'/content/drive/MyDrive/PCVK/facedet/jokowi.jpg'\u001b[0m\u001b[0;34m)\u001b[0m\u001b[0;34m\u001b[0m\u001b[0;34m\u001b[0m\u001b[0m\n\u001b[1;32m      4\u001b[0m \u001b[0mjokowi1\u001b[0m \u001b[0;34m=\u001b[0m \u001b[0mcv\u001b[0m\u001b[0;34m.\u001b[0m\u001b[0mimread\u001b[0m\u001b[0;34m(\u001b[0m\u001b[0;34m'/content/drive/MyDrive/PCVK/facedet/jokowi.jpg'\u001b[0m\u001b[0;34m)\u001b[0m\u001b[0;34m\u001b[0m\u001b[0;34m\u001b[0m\u001b[0m\n\u001b[0;32m----> 5\u001b[0;31m \u001b[0mroi_wajah1\u001b[0m \u001b[0;34m=\u001b[0m \u001b[0mcascade_wajah\u001b[0m\u001b[0;34m.\u001b[0m\u001b[0mdetectMultiScale\u001b[0m\u001b[0;34m(\u001b[0m\u001b[0mjokowi1\u001b[0m\u001b[0;34m)\u001b[0m\u001b[0;34m\u001b[0m\u001b[0;34m\u001b[0m\u001b[0m\n\u001b[0m\u001b[1;32m      6\u001b[0m \u001b[0;34m\u001b[0m\u001b[0m\n\u001b[1;32m      7\u001b[0m \u001b[0mroi_wajah\u001b[0m \u001b[0;34m=\u001b[0m \u001b[0mcascade_wajah\u001b[0m\u001b[0;34m.\u001b[0m\u001b[0mdetectMultiScale\u001b[0m\u001b[0;34m(\u001b[0m\u001b[0mjokowi\u001b[0m\u001b[0;34m)\u001b[0m\u001b[0;34m\u001b[0m\u001b[0;34m\u001b[0m\u001b[0m\n",
            "\u001b[0;31merror\u001b[0m: OpenCV(4.7.0) /io/opencv/modules/objdetect/src/cascadedetect.cpp:1689: error: (-215:Assertion failed) !empty() in function 'detectMultiScale'\n"
          ]
        }
      ]
    },
    {
      "cell_type": "code",
      "metadata": {
        "id": "AkUHCR9ZzI8u"
      },
      "source": [
        "#RA.kartini\n",
        "kartini = cv.imread('/content/drive/MyDrive/PCVK/facedet/kartini.jpg')\n",
        "kartini1 = cv.imread('/content/drive/MyDrive/PCVK/facedet/kartini.jpg')\n",
        "roi_wajah1 = cascade_wajah.detectMultiScale(kartini1)\n",
        "\n",
        "roi_wajah = cascade_wajah.detectMultiScale(kartini)\n",
        "for (x,y,w,h) in roi_wajah:\n",
        "  cv.rectangle(kartini,(x,y),(x+w,y+h),(255,0,0),3)\n",
        "plt.figure(figsize = (10,10))\n",
        "\n",
        "f,axarr = plt.subplots(1,2,figsize=(15,5))\n",
        "plt.subplot(121),plt.imshow(cv.cvtColor(kartini1,cv.COLOR_BGR2RGB))\n",
        "axarr[0].imshow(cv.cvtColor(kartini1,cv.COLOR_BGR2RGB))\n",
        "plt.subplot(122),plt.imshow(cv.cvtColor(kartini,cv.COLOR_BGR2RGB))\n",
        "axarr[1].imshow(cv.cvtColor(kartini,cv.COLOR_BGR2RGB))\n",
        "plt.show()"
      ],
      "execution_count": null,
      "outputs": []
    },
    {
      "cell_type": "code",
      "source": [
        "#meong\n",
        "meong = cv.imread('/content/drive/MyDrive/PCVK/facedet/kucing.jpg')\n",
        "meong1 = cv.imread('/content/drive/MyDrive/PCVK/facedet/kucing.jpg')\n",
        "\n",
        "meong_ori = cv.cvtColor(meong,cv.COLOR_BGR2GRAY)\n",
        "meong_kw = cv.cvtColor(meong1,cv.COLOR_BGR2GRAY)\n",
        "\n",
        "roi_wajah = cascade_wajah.detectMultiScale(meong1)\n",
        "for (x,y,w,h) in roi_wajah:\n",
        "  cv.rectangle(meong1,(x,y),(x+w,y+h),(255,255,255),3)\n",
        "plt.figure(figsize = (10,10))\n",
        "\n",
        "f,axarr = plt.subplots(1,2,figsize=(15,5))\n",
        "plt.subplot(121),plt.imshow(meong_ori, cmap='gray')\n",
        "plt.subplot(122),plt.imshow(meong_kw, cmap='gray')\n",
        "plt.show()\n",
        "\n",
        "#cewek maskeran\n",
        "mask = cv.imread('/content/drive/MyDrive/PCVK/facedet/mask.png',0)\n",
        "mask1 = cv.imread('/content/drive/MyDrive/PCVK/facedet/mask.png',0)\n",
        "\n",
        "roi_wajah = cascade_wajah.detectMultiScale(mask1)\n",
        "for (x,y,w,h) in roi_wajah:\n",
        "  cv.rectangle(mask1,(x,y),(x+w,y+h),(255,255,255),3)\n",
        "plt.figure(figsize = (10,10))\n",
        "\n",
        "f,axarr = plt.subplots(1,2,figsize=(15,5))\n",
        "plt.subplot(121),plt.imshow(mask, cmap='gray')\n",
        "plt.subplot(122),plt.imshow(mask1, cmap='gray')\n",
        "plt.show()"
      ],
      "metadata": {
        "id": "BVWZH17ik3g8"
      },
      "execution_count": null,
      "outputs": []
    },
    {
      "cell_type": "code",
      "source": [
        "#jordan\n",
        "jordan = cv.imread('/content/drive/MyDrive/PCVK/facedet/mjordan.jpg',0)\n",
        "jordan1 = cv.imread('/content/drive/MyDrive/PCVK/facedet/mjordan.jpg',0)\n",
        "\n",
        "roi_wajah = cascade_wajah.detectMultiScale(jordan1)\n",
        "for (x,y,w,h) in roi_wajah:\n",
        "  cv.rectangle(jordan1,(x,y),(x+w,y+h),(255,0,255), 3)\n",
        "plt.figure(figsize = (10,10))\n",
        "\n",
        "f,axarr = plt.subplots(1,2,figsize=(15,5))\n",
        "plt.subplot(121),plt.imshow(jordan, cmap='gray')\n",
        "plt.subplot(122),plt.imshow(jordan1, cmap='gray')\n",
        "plt.show()\n",
        "\n",
        "#foto bareng\n",
        "fotbar = cv.imread('/content/drive/MyDrive/PCVK/facedet/solvayconf.jpg',0)\n",
        "fotbar1 = cv.imread('/content/drive/MyDrive/PCVK/facedet/solvayconf.jpg',0)\n",
        "\n",
        "roi_wajah = cascade_wajah.detectMultiScale(fotbar1)\n",
        "for (x,y,w,h) in roi_wajah:\n",
        "  cv.rectangle(fotbar1,(x,y),(x+w,y+h),(255,0,255), 3)\n",
        "plt.figure(figsize = (10,10))\n",
        "\n",
        "f,axarr = plt.subplots(1,2,figsize=(15,5))\n",
        "plt.subplot(121),plt.imshow(fotbar, cmap='gray')\n",
        "plt.subplot(122),plt.imshow(fotbar1, cmap='gray')\n",
        "plt.show()"
      ],
      "metadata": {
        "id": "tJ50ne_-nLXH"
      },
      "execution_count": null,
      "outputs": []
    },
    {
      "cell_type": "code",
      "source": [
        "cascade_wajah = cv.CascadeClassifier('/content/drive/MyDrive/PCVK/haarcascades/haarcascade_frontalcatface,xml')\n",
        "\n",
        "cat = cv.imread('/content/drive/MyDrive/PCVK/facedet/kucing.jpg',0)\n",
        "cat1 = cv.imread('/content/drive/MyDrive/PCVK/facedet/kucing.jpg',0)\n",
        "\n",
        "roi_wajah = cascade_wajah.detectMultiScale(cat1)\n",
        "for (x,y,w,h) in roi_wajah:\n",
        "  cv.rectangle(cat1,(x,y),(x+w,y+h),(0,255,0), 3)\n",
        "plt.figure(figsize = (10,10))\n",
        "\n",
        "f,axarr = plt.subplots(1,2,figsize=(15,5))\n",
        "plt.subplot(121),plt.imshow(cat, cmap='gray')\n",
        "plt.subplot(122),plt.imshow(cat1, cmap='gray')\n",
        "plt.show()"
      ],
      "metadata": {
        "id": "4PYer4ypoYTs"
      },
      "execution_count": null,
      "outputs": []
    },
    {
      "cell_type": "code",
      "source": [
        "cascade_wajah = cv.CascadeClassifier('/content/drive/MyDrive/PCVK/haarcascades/haarcascade_frontalcatface,xml')\n",
        "\n",
        "jokowi = cv.imread('/content/drive/MyDrive/PCVK/facedet/jokowi.jpg')\n",
        "jokowi_ori = cv.imread('/content/drive/MyDrive/PCVK/facedet/kucjokowiing.jpg')\n",
        "jokowi_gray = cv.cvtColor(jokowi,cv.COLOR_BGR2GRAY)\n",
        "jokowi_ori_gray = cv.cvtColor(jokowi_ori,cv.COLOR_BGR2GRAY)\n",
        "\n",
        "roi_wajah = cascade_wajah.detectMultiScale(jokowi_gray)\n",
        "for (x,y,w,h) in roi_wajah:\n",
        "  cv.rectangle(jokowi_gray,(x,y),(x+w,y+h),(255,255,255),3)\n",
        "\n",
        "#plot output\n",
        "f,axarr = plt.subplots(1,2,figsize=(15,15))\n",
        "plt.subplot(121),plt.imshow(jokowi_ori_gray, cmap='gray')\n",
        "plt.subplot(122),plt.imshow(jokowi_gray, cmap='gray')\n",
        "plt.show()\n"
      ],
      "metadata": {
        "colab": {
          "base_uri": "https://localhost:8080/",
          "height": 244
        },
        "id": "ou9iDW0Mo4eX",
        "outputId": "d9dee614-1bf4-4fe1-9a6c-89e5b822892c"
      },
      "execution_count": null,
      "outputs": [
        {
          "output_type": "error",
          "ename": "NameError",
          "evalue": "ignored",
          "traceback": [
            "\u001b[0;31m---------------------------------------------------------------------------\u001b[0m",
            "\u001b[0;31mNameError\u001b[0m                                 Traceback (most recent call last)",
            "\u001b[0;32m<ipython-input-2-c7ef043e984f>\u001b[0m in \u001b[0;36m<cell line: 1>\u001b[0;34m()\u001b[0m\n\u001b[0;32m----> 1\u001b[0;31m \u001b[0mcascade_wajah\u001b[0m \u001b[0;34m=\u001b[0m \u001b[0mcv\u001b[0m\u001b[0;34m.\u001b[0m\u001b[0mCascadeClassifier\u001b[0m\u001b[0;34m(\u001b[0m\u001b[0;34m'/content/drive/MyDrive/PCVK/haarcascades/haarcascade_frontalcatface,xml'\u001b[0m\u001b[0;34m)\u001b[0m\u001b[0;34m\u001b[0m\u001b[0;34m\u001b[0m\u001b[0m\n\u001b[0m\u001b[1;32m      2\u001b[0m \u001b[0;34m\u001b[0m\u001b[0m\n\u001b[1;32m      3\u001b[0m \u001b[0mjokowi\u001b[0m \u001b[0;34m=\u001b[0m \u001b[0mcv\u001b[0m\u001b[0;34m.\u001b[0m\u001b[0mimread\u001b[0m\u001b[0;34m(\u001b[0m\u001b[0;34m'/content/drive/MyDrive/PCVK/facedet/jokowi.jpg'\u001b[0m\u001b[0;34m)\u001b[0m\u001b[0;34m\u001b[0m\u001b[0;34m\u001b[0m\u001b[0m\n\u001b[1;32m      4\u001b[0m \u001b[0mjokowi_ori\u001b[0m \u001b[0;34m=\u001b[0m \u001b[0mcv\u001b[0m\u001b[0;34m.\u001b[0m\u001b[0mimread\u001b[0m\u001b[0;34m(\u001b[0m\u001b[0;34m'/content/drive/MyDrive/PCVK/facedet/kucjokowiing.jpg'\u001b[0m\u001b[0;34m)\u001b[0m\u001b[0;34m\u001b[0m\u001b[0;34m\u001b[0m\u001b[0m\n\u001b[1;32m      5\u001b[0m \u001b[0mjokowi_gray\u001b[0m \u001b[0;34m=\u001b[0m \u001b[0mcv\u001b[0m\u001b[0;34m.\u001b[0m\u001b[0mcvtColor\u001b[0m\u001b[0;34m(\u001b[0m\u001b[0mjokowi\u001b[0m\u001b[0;34m,\u001b[0m\u001b[0mcv\u001b[0m\u001b[0;34m.\u001b[0m\u001b[0mCOLOR_BGR2GRAY\u001b[0m\u001b[0;34m)\u001b[0m\u001b[0;34m\u001b[0m\u001b[0;34m\u001b[0m\u001b[0m\n",
            "\u001b[0;31mNameError\u001b[0m: name 'cv' is not defined"
          ]
        }
      ]
    },
    {
      "cell_type": "code",
      "source": [
        "def js_to_image(js_reply):\n",
        "  image_bytes - b64decode(js_reply.split(',')[1])\n",
        "  jpg_as_np = np.frombuffer(image_bytes,dtype=np.uint8)\n",
        "  img = cv2.imdecode(jpg_as_np, flags=1)\n",
        "\n",
        "  return img\n",
        "\n",
        "def bbox_to_bytes(bbox_array):\n",
        "  bbox_PIL = PIL.Image.fromarray(bbox_array, 'RGBA')\n",
        "  iobuf = io.BytesIO()\n",
        "  bbox_PLI.save(iobuf, format='png')\n",
        "  bbox_bytes = 'data:image/png;base64,{}',format((str(b64decode(iobuf.getvalue()),'utf-8')))\n",
        "\n",
        "  return bbox_to_bytes"
      ],
      "metadata": {
        "id": "me-hTUj3qKPl"
      },
      "execution_count": null,
      "outputs": []
    },
    {
      "cell_type": "code",
      "source": [
        "face_cascade = cv2.CascadeClassifier(cv2.samples.findFile(cv2.data.haarcascades + 'haarcascade_frontalface_default.xml'))"
      ],
      "metadata": {
        "id": "fVzPEr44r-Bc"
      },
      "execution_count": null,
      "outputs": []
    },
    {
      "cell_type": "code",
      "source": [
        "def take_photo(filename='photo.jpg',quality=0.8):\n",
        "  js = Javascript('''\n",
        "    async function takePhoto(quality){\n",
        "      const div = document.createElement('div');\n",
        "      const capture = document.createElement('button');\n",
        "      capture,appendChild(capture);\n",
        "\n",
        "      const video = document.createElement('video');\n",
        "      video.style.display = 'block';\n",
        "      const stream = await navigator.mediaDevices.getUserMedia({video:true});\n",
        "\n",
        "      document.body.appendChild(div);\n",
        "      div.appendChild(video);\n",
        "      video.scrObject = stream;\n",
        "      await video.play();\n",
        "\n",
        "      google.colab,output.setIframeHeoght(document.documentElement.scrollHeight, true);\n",
        "\n",
        "      await new Promise((resolve) => capture.onclick = resolve);\n",
        "\n",
        "      const canvas = document.createElement('canvas');\n",
        "      canvas.width = video.videoWidth;\n",
        "      canvas.height = video.videoHeight;\n",
        "      canvas.getContext('2d').drawImage(video, 0, 0);\n",
        "      stream.getVideoTracks()[0].stop();\n",
        "      div.remove();\n",
        "      return canvas.toDataURL('image/jpg', quality);\n",
        "    }\n",
        "    ''')\n",
        "  display(js)\n",
        "\n",
        "data = eval_js('takePhoto({})'.format(quality))\n",
        "img = js_to?_image(data)\n",
        "gray = cv2.cvtColor(img, cv2.COLOR_RGB2GRAY)\n",
        "print(gray.shape)\n",
        "faces = face_cascade.detectMultiScale(gray)\n",
        "for(x,y,w,h) in faces:\n",
        "  img = cv2.rectangle(img,(x,y),(x+w,y+h),(266, 0, 0), 2)\n",
        "\n",
        "  cv2.imrite(filename, img)\n",
        "\n",
        "  return filename"
      ],
      "metadata": {
        "colab": {
          "base_uri": "https://localhost:8080/",
          "height": 226
        },
        "id": "MPtLbSuksbau",
        "outputId": "64fdb1f6-fbcb-4172-8459-cb0b011624ec"
      },
      "execution_count": null,
      "outputs": [
        {
          "output_type": "error",
          "ename": "NameError",
          "evalue": "ignored",
          "traceback": [
            "\u001b[0;31m---------------------------------------------------------------------------\u001b[0m",
            "\u001b[0;31mNameError\u001b[0m                                 Traceback (most recent call last)",
            "\u001b[0;32m<ipython-input-1-72ce7aaa7f08>\u001b[0m in \u001b[0;36m<cell line: 32>\u001b[0;34m()\u001b[0m\n\u001b[1;32m     30\u001b[0m   \u001b[0mdisplay\u001b[0m\u001b[0;34m(\u001b[0m\u001b[0mjs\u001b[0m\u001b[0;34m)\u001b[0m\u001b[0;34m\u001b[0m\u001b[0;34m\u001b[0m\u001b[0m\n\u001b[1;32m     31\u001b[0m \u001b[0;34m\u001b[0m\u001b[0m\n\u001b[0;32m---> 32\u001b[0;31m \u001b[0mdata\u001b[0m \u001b[0;34m=\u001b[0m \u001b[0meval_js\u001b[0m\u001b[0;34m(\u001b[0m\u001b[0;34m'takePhoto({})'\u001b[0m\u001b[0;34m.\u001b[0m\u001b[0mformat\u001b[0m\u001b[0;34m(\u001b[0m\u001b[0mquality\u001b[0m\u001b[0;34m)\u001b[0m\u001b[0;34m)\u001b[0m\u001b[0;34m\u001b[0m\u001b[0;34m\u001b[0m\u001b[0m\n\u001b[0m\u001b[1;32m     33\u001b[0m \u001b[0mimg\u001b[0m \u001b[0;34m=\u001b[0m \u001b[0mjs\u001b[0m\u001b[0;34m\u001b[0m\u001b[0;34m\u001b[0m\u001b[0m\n",
            "\u001b[0;31mNameError\u001b[0m: name 'eval_js' is not defined"
          ]
        }
      ]
    },
    {
      "cell_type": "code",
      "source": [
        "image = cv.imread('/content/drive/MyDrive/PCVK/facedet/mjordan.jpg') # reads the image\n",
        "image = cv.cvtColor(image,cv.COLOR_BGR2GRAY) # convert to gray\n",
        "figure_size = 9 # the dimension of the x and y axis of the kernal\n",
        "\n",
        "new_image = cv.medianBlur(image, figure_sixe)\n",
        "f,axarr = plt.subplots(1,2,figsize=(15,15))\n",
        "plt.subplot(121),plt.imshow(image, cmap='gray'), plt.title('Original')\n",
        "plt.subplot(122),plt.imshow(new_image, cmap='gray'), plt.title('Median Filter')\n",
        "plt.show()"
      ],
      "metadata": {
        "id": "wkthDSJsvn6z"
      },
      "execution_count": null,
      "outputs": []
    }
  ]
}